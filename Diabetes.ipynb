{
  "nbformat": 4,
  "nbformat_minor": 0,
  "metadata": {
    "colab": {
      "provenance": [],
      "include_colab_link": true
    },
    "kernelspec": {
      "name": "python3",
      "display_name": "Python 3"
    },
    "language_info": {
      "name": "python"
    }
  },
  "cells": [
    {
      "cell_type": "markdown",
      "metadata": {
        "id": "view-in-github",
        "colab_type": "text"
      },
      "source": [
        "<a href=\"https://colab.research.google.com/github/davidias0090/validation_and_metrics/blob/main/Diabetes.ipynb\" target=\"_parent\"><img src=\"https://colab.research.google.com/assets/colab-badge.svg\" alt=\"Open In Colab\"/></a>"
      ]
    },
    {
      "cell_type": "markdown",
      "source": [
        "### Desafio 1\n",
        "\n",
        "Faça a leitura da base de dados de diabetes e realize a divisão dos dados em variáveis explicativas e variável alvo (x e y)."
      ],
      "metadata": {
        "id": "XXpTDkQmqgGT"
      }
    },
    {
      "cell_type": "code",
      "source": [
        "#Importação das bibliotecas para carregar a base de dados\n",
        "import pandas as pd\n",
        "url ='https://raw.githubusercontent.com/davidias0090/validation_and_metrics/main/diabetes%20-%20diabetes.csv.csv'\n",
        "df = pd.read_csv(url)\n",
        "df.head()"
      ],
      "metadata": {
        "id": "o-clr688LDl2",
        "colab": {
          "base_uri": "https://localhost:8080/",
          "height": 206
        },
        "outputId": "612c4b56-6aa2-4605-e4eb-52af8544669d"
      },
      "execution_count": 1,
      "outputs": [
        {
          "output_type": "execute_result",
          "data": {
            "text/plain": [
              "   glicemia  pressao_sanguinea  dobra_cutane_triceps  insulina      imc  \\\n",
              "0        66                 23                    94      28.1  167.000   \n",
              "1        40                 35                   168      43.1    2.288   \n",
              "2        50                 32                    88      31.0  248.000   \n",
              "3        70                 45                   543      30.5  158.000   \n",
              "4        60                 23                   846      30.1  398.000   \n",
              "\n",
              "   diabetes  \n",
              "0         0  \n",
              "1         1  \n",
              "2         1  \n",
              "3         1  \n",
              "4         1  "
            ],
            "text/html": [
              "\n",
              "  <div id=\"df-2ebba638-ccca-4ebf-9079-8c449b8e6a4d\" class=\"colab-df-container\">\n",
              "    <div>\n",
              "<style scoped>\n",
              "    .dataframe tbody tr th:only-of-type {\n",
              "        vertical-align: middle;\n",
              "    }\n",
              "\n",
              "    .dataframe tbody tr th {\n",
              "        vertical-align: top;\n",
              "    }\n",
              "\n",
              "    .dataframe thead th {\n",
              "        text-align: right;\n",
              "    }\n",
              "</style>\n",
              "<table border=\"1\" class=\"dataframe\">\n",
              "  <thead>\n",
              "    <tr style=\"text-align: right;\">\n",
              "      <th></th>\n",
              "      <th>glicemia</th>\n",
              "      <th>pressao_sanguinea</th>\n",
              "      <th>dobra_cutane_triceps</th>\n",
              "      <th>insulina</th>\n",
              "      <th>imc</th>\n",
              "      <th>diabetes</th>\n",
              "    </tr>\n",
              "  </thead>\n",
              "  <tbody>\n",
              "    <tr>\n",
              "      <th>0</th>\n",
              "      <td>66</td>\n",
              "      <td>23</td>\n",
              "      <td>94</td>\n",
              "      <td>28.1</td>\n",
              "      <td>167.000</td>\n",
              "      <td>0</td>\n",
              "    </tr>\n",
              "    <tr>\n",
              "      <th>1</th>\n",
              "      <td>40</td>\n",
              "      <td>35</td>\n",
              "      <td>168</td>\n",
              "      <td>43.1</td>\n",
              "      <td>2.288</td>\n",
              "      <td>1</td>\n",
              "    </tr>\n",
              "    <tr>\n",
              "      <th>2</th>\n",
              "      <td>50</td>\n",
              "      <td>32</td>\n",
              "      <td>88</td>\n",
              "      <td>31.0</td>\n",
              "      <td>248.000</td>\n",
              "      <td>1</td>\n",
              "    </tr>\n",
              "    <tr>\n",
              "      <th>3</th>\n",
              "      <td>70</td>\n",
              "      <td>45</td>\n",
              "      <td>543</td>\n",
              "      <td>30.5</td>\n",
              "      <td>158.000</td>\n",
              "      <td>1</td>\n",
              "    </tr>\n",
              "    <tr>\n",
              "      <th>4</th>\n",
              "      <td>60</td>\n",
              "      <td>23</td>\n",
              "      <td>846</td>\n",
              "      <td>30.1</td>\n",
              "      <td>398.000</td>\n",
              "      <td>1</td>\n",
              "    </tr>\n",
              "  </tbody>\n",
              "</table>\n",
              "</div>\n",
              "    <div class=\"colab-df-buttons\">\n",
              "\n",
              "  <div class=\"colab-df-container\">\n",
              "    <button class=\"colab-df-convert\" onclick=\"convertToInteractive('df-2ebba638-ccca-4ebf-9079-8c449b8e6a4d')\"\n",
              "            title=\"Convert this dataframe to an interactive table.\"\n",
              "            style=\"display:none;\">\n",
              "\n",
              "  <svg xmlns=\"http://www.w3.org/2000/svg\" height=\"24px\" viewBox=\"0 -960 960 960\">\n",
              "    <path d=\"M120-120v-720h720v720H120Zm60-500h600v-160H180v160Zm220 220h160v-160H400v160Zm0 220h160v-160H400v160ZM180-400h160v-160H180v160Zm440 0h160v-160H620v160ZM180-180h160v-160H180v160Zm440 0h160v-160H620v160Z\"/>\n",
              "  </svg>\n",
              "    </button>\n",
              "\n",
              "  <style>\n",
              "    .colab-df-container {\n",
              "      display:flex;\n",
              "      gap: 12px;\n",
              "    }\n",
              "\n",
              "    .colab-df-convert {\n",
              "      background-color: #E8F0FE;\n",
              "      border: none;\n",
              "      border-radius: 50%;\n",
              "      cursor: pointer;\n",
              "      display: none;\n",
              "      fill: #1967D2;\n",
              "      height: 32px;\n",
              "      padding: 0 0 0 0;\n",
              "      width: 32px;\n",
              "    }\n",
              "\n",
              "    .colab-df-convert:hover {\n",
              "      background-color: #E2EBFA;\n",
              "      box-shadow: 0px 1px 2px rgba(60, 64, 67, 0.3), 0px 1px 3px 1px rgba(60, 64, 67, 0.15);\n",
              "      fill: #174EA6;\n",
              "    }\n",
              "\n",
              "    .colab-df-buttons div {\n",
              "      margin-bottom: 4px;\n",
              "    }\n",
              "\n",
              "    [theme=dark] .colab-df-convert {\n",
              "      background-color: #3B4455;\n",
              "      fill: #D2E3FC;\n",
              "    }\n",
              "\n",
              "    [theme=dark] .colab-df-convert:hover {\n",
              "      background-color: #434B5C;\n",
              "      box-shadow: 0px 1px 3px 1px rgba(0, 0, 0, 0.15);\n",
              "      filter: drop-shadow(0px 1px 2px rgba(0, 0, 0, 0.3));\n",
              "      fill: #FFFFFF;\n",
              "    }\n",
              "  </style>\n",
              "\n",
              "    <script>\n",
              "      const buttonEl =\n",
              "        document.querySelector('#df-2ebba638-ccca-4ebf-9079-8c449b8e6a4d button.colab-df-convert');\n",
              "      buttonEl.style.display =\n",
              "        google.colab.kernel.accessAllowed ? 'block' : 'none';\n",
              "\n",
              "      async function convertToInteractive(key) {\n",
              "        const element = document.querySelector('#df-2ebba638-ccca-4ebf-9079-8c449b8e6a4d');\n",
              "        const dataTable =\n",
              "          await google.colab.kernel.invokeFunction('convertToInteractive',\n",
              "                                                    [key], {});\n",
              "        if (!dataTable) return;\n",
              "\n",
              "        const docLinkHtml = 'Like what you see? Visit the ' +\n",
              "          '<a target=\"_blank\" href=https://colab.research.google.com/notebooks/data_table.ipynb>data table notebook</a>'\n",
              "          + ' to learn more about interactive tables.';\n",
              "        element.innerHTML = '';\n",
              "        dataTable['output_type'] = 'display_data';\n",
              "        await google.colab.output.renderOutput(dataTable, element);\n",
              "        const docLink = document.createElement('div');\n",
              "        docLink.innerHTML = docLinkHtml;\n",
              "        element.appendChild(docLink);\n",
              "      }\n",
              "    </script>\n",
              "  </div>\n",
              "\n",
              "\n",
              "<div id=\"df-733775e1-7b99-4d80-8295-ce8b3e489360\">\n",
              "  <button class=\"colab-df-quickchart\" onclick=\"quickchart('df-733775e1-7b99-4d80-8295-ce8b3e489360')\"\n",
              "            title=\"Suggest charts\"\n",
              "            style=\"display:none;\">\n",
              "\n",
              "<svg xmlns=\"http://www.w3.org/2000/svg\" height=\"24px\"viewBox=\"0 0 24 24\"\n",
              "     width=\"24px\">\n",
              "    <g>\n",
              "        <path d=\"M19 3H5c-1.1 0-2 .9-2 2v14c0 1.1.9 2 2 2h14c1.1 0 2-.9 2-2V5c0-1.1-.9-2-2-2zM9 17H7v-7h2v7zm4 0h-2V7h2v10zm4 0h-2v-4h2v4z\"/>\n",
              "    </g>\n",
              "</svg>\n",
              "  </button>\n",
              "\n",
              "<style>\n",
              "  .colab-df-quickchart {\n",
              "      --bg-color: #E8F0FE;\n",
              "      --fill-color: #1967D2;\n",
              "      --hover-bg-color: #E2EBFA;\n",
              "      --hover-fill-color: #174EA6;\n",
              "      --disabled-fill-color: #AAA;\n",
              "      --disabled-bg-color: #DDD;\n",
              "  }\n",
              "\n",
              "  [theme=dark] .colab-df-quickchart {\n",
              "      --bg-color: #3B4455;\n",
              "      --fill-color: #D2E3FC;\n",
              "      --hover-bg-color: #434B5C;\n",
              "      --hover-fill-color: #FFFFFF;\n",
              "      --disabled-bg-color: #3B4455;\n",
              "      --disabled-fill-color: #666;\n",
              "  }\n",
              "\n",
              "  .colab-df-quickchart {\n",
              "    background-color: var(--bg-color);\n",
              "    border: none;\n",
              "    border-radius: 50%;\n",
              "    cursor: pointer;\n",
              "    display: none;\n",
              "    fill: var(--fill-color);\n",
              "    height: 32px;\n",
              "    padding: 0;\n",
              "    width: 32px;\n",
              "  }\n",
              "\n",
              "  .colab-df-quickchart:hover {\n",
              "    background-color: var(--hover-bg-color);\n",
              "    box-shadow: 0 1px 2px rgba(60, 64, 67, 0.3), 0 1px 3px 1px rgba(60, 64, 67, 0.15);\n",
              "    fill: var(--button-hover-fill-color);\n",
              "  }\n",
              "\n",
              "  .colab-df-quickchart-complete:disabled,\n",
              "  .colab-df-quickchart-complete:disabled:hover {\n",
              "    background-color: var(--disabled-bg-color);\n",
              "    fill: var(--disabled-fill-color);\n",
              "    box-shadow: none;\n",
              "  }\n",
              "\n",
              "  .colab-df-spinner {\n",
              "    border: 2px solid var(--fill-color);\n",
              "    border-color: transparent;\n",
              "    border-bottom-color: var(--fill-color);\n",
              "    animation:\n",
              "      spin 1s steps(1) infinite;\n",
              "  }\n",
              "\n",
              "  @keyframes spin {\n",
              "    0% {\n",
              "      border-color: transparent;\n",
              "      border-bottom-color: var(--fill-color);\n",
              "      border-left-color: var(--fill-color);\n",
              "    }\n",
              "    20% {\n",
              "      border-color: transparent;\n",
              "      border-left-color: var(--fill-color);\n",
              "      border-top-color: var(--fill-color);\n",
              "    }\n",
              "    30% {\n",
              "      border-color: transparent;\n",
              "      border-left-color: var(--fill-color);\n",
              "      border-top-color: var(--fill-color);\n",
              "      border-right-color: var(--fill-color);\n",
              "    }\n",
              "    40% {\n",
              "      border-color: transparent;\n",
              "      border-right-color: var(--fill-color);\n",
              "      border-top-color: var(--fill-color);\n",
              "    }\n",
              "    60% {\n",
              "      border-color: transparent;\n",
              "      border-right-color: var(--fill-color);\n",
              "    }\n",
              "    80% {\n",
              "      border-color: transparent;\n",
              "      border-right-color: var(--fill-color);\n",
              "      border-bottom-color: var(--fill-color);\n",
              "    }\n",
              "    90% {\n",
              "      border-color: transparent;\n",
              "      border-bottom-color: var(--fill-color);\n",
              "    }\n",
              "  }\n",
              "</style>\n",
              "\n",
              "  <script>\n",
              "    async function quickchart(key) {\n",
              "      const quickchartButtonEl =\n",
              "        document.querySelector('#' + key + ' button');\n",
              "      quickchartButtonEl.disabled = true;  // To prevent multiple clicks.\n",
              "      quickchartButtonEl.classList.add('colab-df-spinner');\n",
              "      try {\n",
              "        const charts = await google.colab.kernel.invokeFunction(\n",
              "            'suggestCharts', [key], {});\n",
              "      } catch (error) {\n",
              "        console.error('Error during call to suggestCharts:', error);\n",
              "      }\n",
              "      quickchartButtonEl.classList.remove('colab-df-spinner');\n",
              "      quickchartButtonEl.classList.add('colab-df-quickchart-complete');\n",
              "    }\n",
              "    (() => {\n",
              "      let quickchartButtonEl =\n",
              "        document.querySelector('#df-733775e1-7b99-4d80-8295-ce8b3e489360 button');\n",
              "      quickchartButtonEl.style.display =\n",
              "        google.colab.kernel.accessAllowed ? 'block' : 'none';\n",
              "    })();\n",
              "  </script>\n",
              "</div>\n",
              "\n",
              "    </div>\n",
              "  </div>\n"
            ],
            "application/vnd.google.colaboratory.intrinsic+json": {
              "type": "dataframe",
              "variable_name": "df",
              "summary": "{\n  \"name\": \"df\",\n  \"rows\": 394,\n  \"fields\": [\n    {\n      \"column\": \"glicemia\",\n      \"properties\": {\n        \"dtype\": \"number\",\n        \"std\": 12,\n        \"min\": 24,\n        \"max\": 110,\n        \"num_unique_values\": 37,\n        \"samples\": [\n          68,\n          64,\n          60\n        ],\n        \"semantic_type\": \"\",\n        \"description\": \"\"\n      }\n    },\n    {\n      \"column\": \"pressao_sanguinea\",\n      \"properties\": {\n        \"dtype\": \"number\",\n        \"std\": 10,\n        \"min\": 7,\n        \"max\": 63,\n        \"num_unique_values\": 48,\n        \"samples\": [\n          51,\n          52,\n          18\n        ],\n        \"semantic_type\": \"\",\n        \"description\": \"\"\n      }\n    },\n    {\n      \"column\": \"dobra_cutane_triceps\",\n      \"properties\": {\n        \"dtype\": \"number\",\n        \"std\": 118,\n        \"min\": 14,\n        \"max\": 846,\n        \"num_unique_values\": 185,\n        \"samples\": [\n          240,\n          18,\n          274\n        ],\n        \"semantic_type\": \"\",\n        \"description\": \"\"\n      }\n    },\n    {\n      \"column\": \"insulina\",\n      \"properties\": {\n        \"dtype\": \"number\",\n        \"std\": 7.210160099590896,\n        \"min\": 0.0,\n        \"max\": 67.1,\n        \"num_unique_values\": 195,\n        \"samples\": [\n          42.1,\n          24.0,\n          46.1\n        ],\n        \"semantic_type\": \"\",\n        \"description\": \"\"\n      }\n    },\n    {\n      \"column\": \"imc\",\n      \"properties\": {\n        \"dtype\": \"number\",\n        \"std\": 263.89970301780517,\n        \"min\": 0.15,\n        \"max\": 997.0,\n        \"num_unique_values\": 332,\n        \"samples\": [\n          962.0,\n          251.0,\n          229.0\n        ],\n        \"semantic_type\": \"\",\n        \"description\": \"\"\n      }\n    },\n    {\n      \"column\": \"diabetes\",\n      \"properties\": {\n        \"dtype\": \"number\",\n        \"std\": 0,\n        \"min\": 0,\n        \"max\": 1,\n        \"num_unique_values\": 2,\n        \"samples\": [\n          1,\n          0\n        ],\n        \"semantic_type\": \"\",\n        \"description\": \"\"\n      }\n    }\n  ]\n}"
            }
          },
          "metadata": {},
          "execution_count": 1
        }
      ]
    },
    {
      "cell_type": "code",
      "source": [
        "df.info()"
      ],
      "metadata": {
        "id": "A9v43rIfjO84",
        "colab": {
          "base_uri": "https://localhost:8080/"
        },
        "outputId": "e4a922f8-d3ea-4bb6-d0d1-17a52466cbc0"
      },
      "execution_count": 2,
      "outputs": [
        {
          "output_type": "stream",
          "name": "stdout",
          "text": [
            "<class 'pandas.core.frame.DataFrame'>\n",
            "RangeIndex: 394 entries, 0 to 393\n",
            "Data columns (total 6 columns):\n",
            " #   Column                Non-Null Count  Dtype  \n",
            "---  ------                --------------  -----  \n",
            " 0   glicemia              394 non-null    int64  \n",
            " 1   pressao_sanguinea     394 non-null    int64  \n",
            " 2   dobra_cutane_triceps  394 non-null    int64  \n",
            " 3   insulina              394 non-null    float64\n",
            " 4   imc                   394 non-null    float64\n",
            " 5   diabetes              394 non-null    int64  \n",
            "dtypes: float64(2), int64(4)\n",
            "memory usage: 18.6 KB\n"
          ]
        }
      ]
    },
    {
      "cell_type": "code",
      "source": [
        "x = df.drop('diabetes', axis=1)\n",
        "y = df['diabetes']"
      ],
      "metadata": {
        "id": "m606S-mhjmMn"
      },
      "execution_count": 5,
      "outputs": []
    },
    {
      "cell_type": "markdown",
      "source": [
        "### Desafio 2\n",
        "\n",
        "Realize a divisão dos dados entre treino e teste."
      ],
      "metadata": {
        "id": "dn6U1p70qw7p"
      }
    },
    {
      "cell_type": "code",
      "source": [
        "#separar dados de treino e teste\n",
        "from sklearn.model_selection import train_test_split\n",
        "seed = 5\n",
        "x_treino, x_teste, y_treino, y_teste = train_test_split(x, y, test_size=0.25, random_state=seed, stratify=y)"
      ],
      "metadata": {
        "id": "AKqvmM8QXkHW"
      },
      "execution_count": 6,
      "outputs": []
    },
    {
      "cell_type": "markdown",
      "source": [
        "### Desafio 3\n",
        "\n",
        "Crie 2 modelos utilizando os algoritmos [DecisionTreeClassifier](https://scikit-learn.org/stable/modules/generated/sklearn.tree.DecisionTreeClassifier.html) e [RandomForestClassifer](https://scikit-learn.org/stable/modules/generated/sklearn.ensemble.RandomForestClassifier.html) e avalie a acurácia de treino e teste, escolhendo valores para o parâmetro `max_depth` para os modelos não se especializarem demais no padrão dos dados de treino."
      ],
      "metadata": {
        "id": "IcmuQBIyxHc8"
      }
    },
    {
      "cell_type": "code",
      "source": [
        "#criar modelo de arvore de decisao\n",
        "from sklearn.tree import DecisionTreeClassifier\n",
        "dtree = DecisionTreeClassifier(max_depth=5, random_state = seed)\n",
        "#treinar modelo\n",
        "dtree.fit(x_treino, y_treino)\n",
        "#calculando acuracia\n",
        "acuracia = dtree.score(x_teste, y_teste)\n",
        "print(f'Acuracia do modelo DecisionTreeClassifier: {acuracia:.2%}%')"
      ],
      "metadata": {
        "id": "YPeQmyV1YhwA",
        "colab": {
          "base_uri": "https://localhost:8080/"
        },
        "outputId": "705dd97e-05ea-42a4-b979-fc6192059a4b"
      },
      "execution_count": 14,
      "outputs": [
        {
          "output_type": "stream",
          "name": "stdout",
          "text": [
            "Acuracia do modelo DecisionTreeClassifier: 65.66%%\n"
          ]
        }
      ]
    },
    {
      "cell_type": "code",
      "source": [
        "#Criando modelo RandomForestClassifier\n",
        "from sklearn.ensemble import RandomForestClassifier\n",
        "r_forest = RandomForestClassifier(max_depth=5, random_state = seed)\n",
        "#treinando modelo\n",
        "r_forest.fit(x_treino, y_treino)\n",
        "#calculando acuracia\n",
        "acuracia = r_forest.score(x_teste, y_teste)\n",
        "print(f'Acuracia do modelo RandomForestClassifier: {acuracia:.2%}%')"
      ],
      "metadata": {
        "colab": {
          "base_uri": "https://localhost:8080/"
        },
        "id": "yBlXLXb-kobn",
        "outputId": "9d9abc88-02e2-41f7-f6b0-5be3799bdd82"
      },
      "execution_count": 15,
      "outputs": [
        {
          "output_type": "stream",
          "name": "stdout",
          "text": [
            "Acuracia do modelo RandomForestClassifier: 65.66%%\n"
          ]
        }
      ]
    },
    {
      "cell_type": "markdown",
      "source": [
        "### Desafio 4\n",
        "\n",
        "Construa uma matriz de confusão para cada um dos modelos para avaliar o desempenho das previsões."
      ],
      "metadata": {
        "id": "luUySRh5xNL1"
      }
    },
    {
      "cell_type": "code",
      "source": [
        "from sklearn.metrics import confusion_matrix\n",
        "import seaborn as sns\n",
        "import matplotlib.pyplot as plt\n",
        "y_pred = dtree.predict(x_teste)\n",
        "matriz_dt = confusion_matrix(y_teste, y_pred)\n",
        "#Plote a matriz de decisao\n",
        "sns.heatmap(matriz_dt, annot=True, fmt='d')\n",
        "plt.xlabel('Previsões')\n",
        "plt.ylabel('Valores Reais')\n",
        "plt.title('Matriz de Confusão DecisionTree')\n",
        "plt.show()"
      ],
      "metadata": {
        "id": "_sufI0QkZKvu",
        "colab": {
          "base_uri": "https://localhost:8080/",
          "height": 472
        },
        "outputId": "c8500fd4-e509-44a9-fed1-c45cd4c31801"
      },
      "execution_count": 21,
      "outputs": [
        {
          "output_type": "display_data",
          "data": {
            "text/plain": [
              "<Figure size 640x480 with 2 Axes>"
            ],
            "image/png": "[encoded data removed]"
          },
          "metadata": {}
        }
      ]
    },
    {
      "cell_type": "code",
      "source": [
        "y_pred = r_forest.predict(x_teste)\n",
        "matriz_rf = confusion_matrix(y_teste, y_pred)\n",
        "#Plote a matriz de decisao\n",
        "sns.heatmap(matriz_rf, annot=True, fmt='d')\n",
        "plt.xlabel('Previsões')\n",
        "plt.ylabel('Valores Reais')\n",
        "plt.title('Matriz de Confusão RandomForest')\n",
        "plt.show()"
      ],
      "metadata": {
        "colab": {
          "base_uri": "https://localhost:8080/",
          "height": 472
        },
        "id": "kYHAPytDl4RH",
        "outputId": "53aa3b02-65eb-4f38-d6e2-7933b6cf8af1"
      },
      "execution_count": 23,
      "outputs": [
        {
          "output_type": "display_data",
          "data": {
            "text/plain": [
              "<Figure size 640x480 with 2 Axes>"
            ],
            "image/png": "[encoded data removed]"
          },
          "metadata": {}
        }
      ]
    },
    {
      "cell_type": "markdown",
      "source": [
        "### Desafio 5\n",
        "\n",
        "Extraia as métricas acurácia, recall, precisão e F1-Score dos modelos de classificação gerados"
      ],
      "metadata": {
        "id": "j3gbWXPaZ6b_"
      }
    },
    {
      "cell_type": "code",
      "source": [
        "from sklearn.metrics import accuracy_score, recall_score, precision_score, f1_score\n",
        "\n",
        "# Decision Tree\n",
        "y_pred_dt = dtree.predict(x_teste)\n",
        "accuracy_dt = accuracy_score(y_teste, y_pred_dt)\n",
        "recall_dt = recall_score(y_teste, y_pred_dt)\n",
        "precision_dt = precision_score(y_teste, y_pred_dt)\n",
        "f1_dt = f1_score(y_teste, y_pred_dt)\n",
        "\n",
        "print(\"Decision Tree Metrics:\")\n",
        "print(f\"Accuracy: {accuracy_dt:.2f}\")\n",
        "print(f\"Recall: {recall_dt:.2f}\")\n",
        "print(f\"Precision: {precision_dt:.2f}\")\n",
        "print(f\"F1-Score: {f1_dt:.2f}\")"
      ],
      "metadata": {
        "id": "b-TqlLAeaKNH",
        "colab": {
          "base_uri": "https://localhost:8080/"
        },
        "outputId": "6cfe1264-2a59-49be-862d-395009b0ccbf"
      },
      "execution_count": 25,
      "outputs": [
        {
          "output_type": "stream",
          "name": "stdout",
          "text": [
            "Decision Tree Metrics:\n",
            "Accuracy: 0.66\n",
            "Recall: 0.45\n",
            "Precision: 0.48\n",
            "F1-Score: 0.47\n"
          ]
        }
      ]
    },
    {
      "cell_type": "code",
      "source": [
        "# Random Forest\n",
        "y_pred_rf = r_forest.predict(x_teste)\n",
        "accuracy_rf = accuracy_score(y_teste, y_pred_rf)\n",
        "recall_rf = recall_score(y_teste, y_pred_rf)\n",
        "precision_rf = precision_score(y_teste, y_pred_rf)\n",
        "f1_rf = f1_score(y_teste, y_pred_rf)\n",
        "\n",
        "print(\"\\nRandom Forest Metrics:\")\n",
        "print(f\"Accuracy: {accuracy_rf:.2f}\")\n",
        "print(f\"Recall: {recall_rf:.2f}\")\n",
        "print(f\"Precision: {precision_rf:.2f}\")\n",
        "print(f\"F1-Score: {f1_rf:.2f}\")"
      ],
      "metadata": {
        "colab": {
          "base_uri": "https://localhost:8080/"
        },
        "id": "G0kF1ausmYYO",
        "outputId": "74dcc701-d341-4c27-cc26-779569e2eece"
      },
      "execution_count": 26,
      "outputs": [
        {
          "output_type": "stream",
          "name": "stdout",
          "text": [
            "\n",
            "Random Forest Metrics:\n",
            "Accuracy: 0.66\n",
            "Recall: 0.42\n",
            "Precision: 0.48\n",
            "F1-Score: 0.45\n"
          ]
        }
      ]
    },
    {
      "cell_type": "markdown",
      "source": [
        "### Desafio 6\n",
        "\n",
        "Obtenha a curva ROC e a métrica AUC dos modelos de classificação gerados no desafio da aula 1, comparando as curvas no mesmo gráfico.\n",
        "\n",
        "*Como uma dica, vasculhe a documentação do `Scikit-learn` a partir deste [link](https://scikit-learn.org/stable/auto_examples/release_highlights/plot_release_highlights_0_22_0.html#new-plotting-api) e verifique uma forma de apresentar os resultados das curvas no mesmo gráfico usando o matplotlib*"
      ],
      "metadata": {
        "id": "Iy6nX8iQZ_JJ"
      }
    },
    {
      "cell_type": "code",
      "source": [
        "from sklearn.metrics import roc_curve, auc\n",
        "\n",
        "# ROC e AUC DecisionTree\n",
        "y_pred_proba_dt = dtree.predict_proba(x_teste)[:, 1]\n",
        "fpr_dt, tpr_dt, thresholds_dt = roc_curve(y_teste, y_pred_proba_dt)\n",
        "roc_auc_dt = auc(fpr_dt, tpr_dt)\n",
        "\n",
        "# ROC e AUC RandomForest\n",
        "y_pred_proba_rf = r_forest.predict_proba(x_teste)[:, 1]\n",
        "fpr_rf, tpr_rf, thresholds_rf = roc_curve(y_teste, y_pred_proba_rf)\n",
        "roc_auc_rf = auc(fpr_rf, tpr_rf)\n",
        "\n",
        "# Plotando as duas curvas no mesmo gráfico\n",
        "plt.figure()\n",
        "plt.plot(fpr_dt, tpr_dt, color='darkorange', lw=2, label='Decision Tree (AUC = %0.2f)' % roc_auc_dt)\n",
        "plt.plot(fpr_rf, tpr_rf, color='darkgreen', lw=2, label='Random Forest (AUC = %0.2f)' % roc_auc_rf)\n",
        "plt.xlim([0.0, 1.0])\n",
        "plt.ylim([0.0, 1.05])\n",
        "plt.xlabel('Taxa de Falso Positivo')\n",
        "plt.ylabel('Taxa de Verdadeiro Positivo')\n",
        "plt.title('Curva ROC DecisionTree vs RandomForest')\n",
        "plt.legend(loc=\"lower right\")\n",
        "plt.show()\n"
      ],
      "metadata": {
        "colab": {
          "base_uri": "https://localhost:8080/",
          "height": 472
        },
        "id": "rxnhZdvjm4Df",
        "outputId": "90dcc1e6-dd37-4e62-ea25-bc92cf2f0fef"
      },
      "execution_count": 33,
      "outputs": [
        {
          "output_type": "display_data",
          "data": {
            "text/plain": [
              "<Figure size 640x480 with 1 Axes>"
            ],
            "image/png": "[encoded data removed]"
          },
          "metadata": {}
        }
      ]
    },
    {
      "cell_type": "markdown",
      "source": [
        "### Desafio 7\n",
        "\n",
        "Obtenha a curva precisão x recall e a métrica AP dos modelos de classificação gerados, comparando as curvas no mesmo gráfico.\n",
        "\n",
        "*Como uma dica, vasculhe a documentação do `Scikit-learn` a partir deste [link](https://scikit-learn.org/stable/auto_examples/release_highlights/plot_release_highlights_0_22_0.html#new-plotting-api) e verifique uma forma de apresentar os resultados das curvas no mesmo gráfico usando o matplotlib*"
      ],
      "metadata": {
        "id": "MtAISYmrZ_VR"
      }
    },
    {
      "cell_type": "code",
      "source": [
        "from sklearn.metrics import precision_recall_curve, average_precision_score\n",
        "\n",
        "# Precisão x Recall DecisionTree\n",
        "precision_dt, recall_dt, _ = precision_recall_curve(y_teste, y_pred_proba_dt)\n",
        "ap_dt = average_precision_score(y_teste, y_pred_proba_dt)\n",
        "\n",
        "# Precisão x Recall RandomForest\n",
        "precision_rf, recall_rf, _ = precision_recall_curve(y_teste, y_pred_proba_rf)\n",
        "ap_rf = average_precision_score(y_teste, y_pred_proba_rf)\n",
        "\n",
        "# Plotando as duas curvas no mesmo gráfico\n",
        "plt.figure()\n",
        "plt.plot(recall_dt, precision_dt, color='darkorange', lw=2, label='Decision Tree (AP = %0.2f)' % ap_dt)\n",
        "plt.plot(recall_rf, precision_rf, color='darkgreen', lw=2, label='Random Forest (AP = %0.2f)' % ap_rf)\n",
        "plt.xlim([0.0, 1.0])\n",
        "plt.ylim([0.0, 1.05])\n",
        "plt.xlabel('Recall')\n",
        "plt.ylabel('Precisão')\n",
        "plt.title('Curva Precisão x Recall DecisionTree vs RandomForest')\n",
        "plt.legend(loc=\"lower left\")\n",
        "plt.show()\n"
      ],
      "metadata": {
        "id": "n5UUgmk4af0I",
        "colab": {
          "base_uri": "https://localhost:8080/",
          "height": 472
        },
        "outputId": "35275aeb-8feb-4618-f2b6-5d38af4a3eba"
      },
      "execution_count": 34,
      "outputs": [
        {
          "output_type": "display_data",
          "data": {
            "text/plain": [
              "<Figure size 640x480 with 1 Axes>"
            ],
            "image/png": "[encoded data removed]"
          },
          "metadata": {}
        }
      ]
    },
    {
      "cell_type": "markdown",
      "source": [
        "### Desafio 8\n",
        "\n",
        "Gere os relatórios de métricas dos modelos de classificação gerados."
      ],
      "metadata": {
        "id": "QC-mYuowZ_YO"
      }
    },
    {
      "cell_type": "code",
      "source": [
        "# prompt: Gere os relatórios de métricas dos modelos de classificação gerados.\n",
        "\n",
        "from sklearn.metrics import classification_report\n",
        "\n",
        "# Relatório Decision Tree\n",
        "print(\"Decision Tree Report:\")\n",
        "print(classification_report(y_teste, y_pred_dt))\n",
        "\n",
        "# Relatório Random Forest\n",
        "print(\"Random Forest Report:\")\n",
        "print(classification_report(y_teste, y_pred_rf))"
      ],
      "metadata": {
        "id": "AZIfQPpJZ3rG",
        "colab": {
          "base_uri": "https://localhost:8080/"
        },
        "outputId": "c84d7497-92ec-4122-e4f2-11123b6e4fd2"
      },
      "execution_count": 36,
      "outputs": [
        {
          "output_type": "stream",
          "name": "stdout",
          "text": [
            "Decision Tree Report:\n",
            "              precision    recall  f1-score   support\n",
            "\n",
            "           0       0.74      0.76      0.75        66\n",
            "           1       0.48      0.45      0.47        33\n",
            "\n",
            "    accuracy                           0.66        99\n",
            "   macro avg       0.61      0.61      0.61        99\n",
            "weighted avg       0.65      0.66      0.65        99\n",
            "\n",
            "Random Forest Report:\n",
            "              precision    recall  f1-score   support\n",
            "\n",
            "           0       0.73      0.77      0.75        66\n",
            "           1       0.48      0.42      0.45        33\n",
            "\n",
            "    accuracy                           0.66        99\n",
            "   macro avg       0.61      0.60      0.60        99\n",
            "weighted avg       0.65      0.66      0.65        99\n",
            "\n"
          ]
        }
      ]
    },
    {
      "cell_type": "markdown",
      "source": [
        "### Desafio 9\n",
        "\n",
        "Crie uma função para calcular o intervalo de confiança dos resultados de uma validação cruzada com 2 desvios padrão. A função precisa ter um parâmetro para receber uma lista com os desempenhos da validação cruzada e outro para apresentar o nome do modelo utilizado na validação cruzada. Exemplo de retorno da função:\n",
        "\n",
        "> Intervalo de confiança (\"nome do modelo\"): [\"valor mínimo do intervalo\", \"valor máximo do intervalo\"]\n",
        "\n"
      ],
      "metadata": {
        "id": "_ksJQ1Ca9Alx"
      }
    },
    {
      "cell_type": "code",
      "source": [
        "def intervalo_de_confianca(resultados, nome):\n",
        "\n",
        "  media = resultados.mean()\n",
        "  desvio = resultados.std()\n",
        "  print(f\"intervalo de Confiança {nome} : [{max(media - 2*desvio,0)}, {min(media + 2*desvio,1)}]\")"
      ],
      "metadata": {
        "id": "Bg7Uh6QyTyB5"
      },
      "execution_count": 58,
      "outputs": []
    },
    {
      "cell_type": "code",
      "source": [
        "from sklearn.model_selection import cross_val_score\n",
        "\n",
        "#DecisionTree\n",
        "resultados_cv = cross_val_score(dtree, x, y, cv=5)\n",
        "intervalo_de_confianca(resultados_cv, \"Decision Tree\")\n"
      ],
      "metadata": {
        "colab": {
          "base_uri": "https://localhost:8080/"
        },
        "id": "ecYUQFIUrBa9",
        "outputId": "ff66ac32-ca4f-4d5c-a855-b060a3fbfd3a"
      },
      "execution_count": 59,
      "outputs": [
        {
          "output_type": "stream",
          "name": "stdout",
          "text": [
            "intervalo de Confiança Decision Tree : [0.5057477774018612, 0.7682541700178077]\n"
          ]
        }
      ]
    },
    {
      "cell_type": "code",
      "source": [
        "#RandomForest\n",
        "resultados_cv = cross_val_score(r_forest, x, y, cv=5)\n",
        "intervalo_de_confianca(resultados_cv, \"Random Forest\")\n"
      ],
      "metadata": {
        "colab": {
          "base_uri": "https://localhost:8080/"
        },
        "id": "4lLL16UzrvLW",
        "outputId": "e0c819d8-c7fc-45b5-da3a-d779811e7cde"
      },
      "execution_count": 60,
      "outputs": [
        {
          "output_type": "stream",
          "name": "stdout",
          "text": [
            "intervalo de Confiança Random Forest : [0.6289127748586277, 0.7971177347161856]\n"
          ]
        }
      ]
    },
    {
      "cell_type": "markdown",
      "source": [
        "### Desafio 10\n",
        "\n",
        "Avalie o desempenho dos modelos com um intervalo de confiança utilizando a validação cruzada com o método [`KFold`](https://scikit-learn.org/stable/modules/generated/sklearn.model_selection.KFold.html), usando 10 partes e embaralhando os dados antes da separação. Use o método [`cross_val_score`](https://scikit-learn.org/stable/modules/generated/sklearn.model_selection.cross_val_score.html) que não retorna o tempo de execução, apenas as métricas."
      ],
      "metadata": {
        "id": "aA2RAJvGlCM1"
      }
    },
    {
      "cell_type": "code",
      "source": [
        "#divisao dos dados de treino e validacao\n",
        "from sklearn.model_selection import KFold, cross_validate\n",
        "kf = KFold(n_splits=10, shuffle=True, random_state=seed)\n",
        "\n",
        "#validacao cruzada DecisionTree\n",
        "resultados = cross_validate(dtree, x, y, cv=kf, scoring='recall')\n",
        "test_score_dt = resultados['test_score']\n",
        "\n",
        "#validacao cruzada RandomForest\n",
        "resultados = cross_validate(r_forest, x, y, cv=kf, scoring='recall')\n",
        "test_score_rf = resultados['test_score']"
      ],
      "metadata": {
        "id": "1jp9GpFwnR3i"
      },
      "execution_count": 62,
      "outputs": []
    },
    {
      "cell_type": "code",
      "source": [
        "intervalo_de_confianca(test_score_dt , \"DecisionTree\")"
      ],
      "metadata": {
        "colab": {
          "base_uri": "https://localhost:8080/"
        },
        "id": "EkYBsZqXpjDP",
        "outputId": "dec9fed6-8d61-4570-9de1-e16c2109a864"
      },
      "execution_count": 63,
      "outputs": [
        {
          "output_type": "stream",
          "name": "stdout",
          "text": [
            "intervalo de Confiança DecisionTree : [0.08026964236245837, 0.756845203575917]\n"
          ]
        }
      ]
    },
    {
      "cell_type": "code",
      "source": [
        "intervalo_de_confianca(test_score_rf, \"Random Forest\")"
      ],
      "metadata": {
        "colab": {
          "base_uri": "https://localhost:8080/"
        },
        "id": "db3z4_AHplnd",
        "outputId": "c491728f-d922-4cc2-ffd5-9b89e4097a89"
      },
      "execution_count": 64,
      "outputs": [
        {
          "output_type": "stream",
          "name": "stdout",
          "text": [
            "intervalo de Confiança Random Forest : [0.19213638622582874, 0.8097800470141339]\n"
          ]
        }
      ]
    },
    {
      "cell_type": "markdown",
      "source": [
        "### Desafio 11\n",
        "\n",
        "Avalie o desempenho dos modelos com um intervalo de confiança utilizando a validação cruzada (`cross_val_score`) com o método [`StratifiedKFold`](https://scikit-learn.org/stable/modules/generated/sklearn.model_selection.StratifiedKFold.html#sklearn.model_selection.StratifiedKFold), usando 10 partes e embaralhando os dados antes da separação e avaliando a métrica F1-Score."
      ],
      "metadata": {
        "id": "FXHAOmL4lFBp"
      }
    },
    {
      "cell_type": "code",
      "source": [
        "from sklearn.model_selection import StratifiedKFold\n",
        "\n",
        "# Definir o número de folds e o random state\n",
        "n_splits = 10\n",
        "seed = 5\n",
        "\n",
        "# Criar o objeto StratifiedKFold\n",
        "skf = StratifiedKFold(n_splits=n_splits, shuffle=True, random_state=seed)"
      ],
      "metadata": {
        "id": "QeAunVFjnSOi"
      },
      "execution_count": 65,
      "outputs": []
    },
    {
      "cell_type": "code",
      "source": [
        "# Avaliar o desempenho do DecisionTreeClassifier com cross_val_score e StratifiedKFold\n",
        "resultados_dt = cross_val_score(dtree, x, y, cv=skf, scoring='f1')\n",
        "intervalo_de_confianca(resultados_dt, \"Decision Tree\")"
      ],
      "metadata": {
        "colab": {
          "base_uri": "https://localhost:8080/"
        },
        "id": "ZqzjpoqRstAe",
        "outputId": "2707d171-7954-439c-8cbe-ac055030e820"
      },
      "execution_count": 66,
      "outputs": [
        {
          "output_type": "stream",
          "name": "stdout",
          "text": [
            "intervalo de Confiança Decision Tree : [0.2840497999805797, 0.7296356172265281]\n"
          ]
        }
      ]
    },
    {
      "cell_type": "code",
      "source": [
        "# Avaliar o desempenho do RandomForestClassifier com cross_val_score e StratifiedKFold\n",
        "resultados_rf = cross_val_score(r_forest, x, y, cv=skf, scoring='f1')\n",
        "intervalo_de_confianca(resultados_rf, \"Random Forest\")"
      ],
      "metadata": {
        "colab": {
          "base_uri": "https://localhost:8080/"
        },
        "id": "6e1NIySDsurs",
        "outputId": "046c523d-aeec-4db5-a051-6d409df71794"
      },
      "execution_count": 67,
      "outputs": [
        {
          "output_type": "stream",
          "name": "stdout",
          "text": [
            "intervalo de Confiança Random Forest : [0.4101897602656123, 0.652206510130658]\n"
          ]
        }
      ]
    },
    {
      "cell_type": "markdown",
      "source": [
        "### Desafio 12\n",
        "\n",
        "Avalie o desempenho dos modelos utilizando a validação cruzada (`cross_val_score`) com o método [`LeaveOneOut`](https://scikit-learn.org/stable/modules/generated/sklearn.model_selection.LeaveOneOut.html).\n",
        "\n",
        "O método LeaveOneOut vai gerar um modelo para cada uma das linhas da base de dados, portanto a lista de resultados terá taxa de acerto apenas de 0 ou 1 para cada modelo. Dessa forma, extraia apenas a média do resultado, sem utilizar o intervalo de confiança.\n"
      ],
      "metadata": {
        "id": "PffR585slFHS"
      }
    },
    {
      "cell_type": "code",
      "source": [
        "from sklearn.model_selection import LeaveOneOut\n",
        "\n",
        "# Criar o objeto LeaveOneOut\n",
        "loo = LeaveOneOut()\n",
        "\n",
        "# Avaliar o desempenho do DecisionTreeClassifier com cross_val_score e LeaveOneOut\n",
        "resultados_dt = cross_val_score(dtree, x, y, cv=loo)\n",
        "print(f\"Média do Decision Tree com LeaveOneOut: {resultados_dt.mean():.2f}\")\n",
        "\n",
        "# Avaliar o desempenho do RandomForestClassifier com cross_val_score e LeaveOneOut\n",
        "resultados_rf = cross_val_score(r_forest, x, y, cv=loo)\n",
        "print(f\"Média do Random Forest com LeaveOneOut: {resultados_rf.mean():.2f}\")\n"
      ],
      "metadata": {
        "id": "2Fu1i0l9T2F5",
        "colab": {
          "base_uri": "https://localhost:8080/"
        },
        "outputId": "14ea2770-43f8-451b-b8e0-508e287e0775"
      },
      "execution_count": 68,
      "outputs": [
        {
          "output_type": "stream",
          "name": "stdout",
          "text": [
            "Média do Decision Tree com LeaveOneOut: 0.63\n",
            "Média do Random Forest com LeaveOneOut: 0.68\n"
          ]
        }
      ]
    },
    {
      "cell_type": "markdown",
      "source": [
        "### Desafio 13\n",
        "\n",
        "Verifique a proporção de dados da variável alvo do conjunto de dados de diabetes. Essa análise pode ser feita a partir da porcentagem de dados ou com a utilização de um gráfico de contagem para entender se há um desbalanceamento de dados."
      ],
      "metadata": {
        "id": "8H-XGS58Jo97"
      }
    },
    {
      "cell_type": "code",
      "source": [
        "y.value_counts(normalize=True)"
      ],
      "metadata": {
        "id": "ymR1fC95T2l5",
        "colab": {
          "base_uri": "https://localhost:8080/",
          "height": 178
        },
        "outputId": "d645085b-1ae1-4446-f3aa-09d8dde14d76"
      },
      "execution_count": 69,
      "outputs": [
        {
          "output_type": "execute_result",
          "data": {
            "text/plain": [
              "diabetes\n",
              "0    0.670051\n",
              "1    0.329949\n",
              "Name: proportion, dtype: float64"
            ],
            "text/html": [
              "<div>\n",
              "<style scoped>\n",
              "    .dataframe tbody tr th:only-of-type {\n",
              "        vertical-align: middle;\n",
              "    }\n",
              "\n",
              "    .dataframe tbody tr th {\n",
              "        vertical-align: top;\n",
              "    }\n",
              "\n",
              "    .dataframe thead th {\n",
              "        text-align: right;\n",
              "    }\n",
              "</style>\n",
              "<table border=\"1\" class=\"dataframe\">\n",
              "  <thead>\n",
              "    <tr style=\"text-align: right;\">\n",
              "      <th></th>\n",
              "      <th>proportion</th>\n",
              "    </tr>\n",
              "    <tr>\n",
              "      <th>diabetes</th>\n",
              "      <th></th>\n",
              "    </tr>\n",
              "  </thead>\n",
              "  <tbody>\n",
              "    <tr>\n",
              "      <th>0</th>\n",
              "      <td>0.670051</td>\n",
              "    </tr>\n",
              "    <tr>\n",
              "      <th>1</th>\n",
              "      <td>0.329949</td>\n",
              "    </tr>\n",
              "  </tbody>\n",
              "</table>\n",
              "</div><br><label><b>dtype:</b> float64</label>"
            ]
          },
          "metadata": {},
          "execution_count": 69
        }
      ]
    },
    {
      "cell_type": "code",
      "source": [
        "print(\"É possivel notar que a proporção dos dados da variavel alvo do conjunto de dados de diabetes esta desbalanceada\")"
      ],
      "metadata": {
        "colab": {
          "base_uri": "https://localhost:8080/"
        },
        "id": "SPVgPj7At1Rs",
        "outputId": "2500c02a-9017-4db0-ae3c-daf279f1ad98"
      },
      "execution_count": 71,
      "outputs": [
        {
          "output_type": "stream",
          "name": "stdout",
          "text": [
            "É possivel notar que a proporção dos dados da variavel alvo do conjunto de dados de diabetes esta desbalanceada\n"
          ]
        }
      ]
    },
    {
      "cell_type": "markdown",
      "source": [
        "### Desafio 14\n",
        "\n",
        "Utilize um [`pipeline`](https://imbalanced-learn.org/stable/references/generated/imblearn.pipeline.Pipeline.html) contendo ajuste do modelo e o balanceamento dos dados usando o oversampling com [`SMOTE`](https://imbalanced-learn.org/stable/references/generated/imblearn.over_sampling.SMOTE.html), obtendo a média do F1-Score de uma validação cruzada com `StratifiedKFold`."
      ],
      "metadata": {
        "id": "OMJ-IW4NJr4M"
      }
    },
    {
      "cell_type": "code",
      "source": [
        "from imblearn.over_sampling import SMOTE\n",
        "from imblearn.pipeline import Pipeline\n",
        "\n",
        "# Criar o objeto SMOTE\n",
        "smote = SMOTE(random_state=seed)\n",
        "\n",
        "# Criar o pipeline\n",
        "pipeline = Pipeline([\n",
        "    ('smote', smote),\n",
        "    ('dtree', dtree)\n",
        "])\n",
        "\n",
        "# Criar o objeto StratifiedKFold\n",
        "skf = StratifiedKFold(n_splits=n_splits, shuffle=True, random_state=seed)\n",
        "\n",
        "# Avaliar o desempenho do modelo com cross_val_score e StratifiedKFold\n",
        "resultados = cross_val_score(pipeline, x, y, cv=skf, scoring='f1')\n",
        "\n",
        "# Imprimir a média do F1-Score\n",
        "print(f\"Média do F1-Score com SMOTE e StratifiedKFold: {resultados.mean():.2f}\")\n"
      ],
      "metadata": {
        "id": "MXJSDAQUT3up",
        "colab": {
          "base_uri": "https://localhost:8080/"
        },
        "outputId": "0b29966a-5454-4714-ec56-a970d7365591"
      },
      "execution_count": 73,
      "outputs": [
        {
          "output_type": "stream",
          "name": "stdout",
          "text": [
            "Média do F1-Score com SMOTE e StratifiedKFold: 0.54\n"
          ]
        }
      ]
    },
    {
      "cell_type": "code",
      "source": [
        "# Criar o pipeline\n",
        "pipeline = Pipeline([\n",
        "    ('smote', smote),\n",
        "    ('r_forest', r_forest)\n",
        "])\n",
        "\n",
        "# Criar o objeto StratifiedKFold\n",
        "skf = StratifiedKFold(n_splits=n_splits, shuffle=True, random_state=seed)\n",
        "\n",
        "# Avaliar o desempenho do modelo com cross_val_score e StratifiedKFold\n",
        "resultados = cross_val_score(pipeline, x, y, cv=skf, scoring='f1')\n",
        "\n",
        "# Imprimir a média do F1-Score\n",
        "print(f\"Média do F1-Score com SMOTE e StratifiedKFold: {resultados.mean():.2f}\")"
      ],
      "metadata": {
        "colab": {
          "base_uri": "https://localhost:8080/"
        },
        "id": "PbO5YfT_ugg8",
        "outputId": "c9b2b2e5-1c0f-44aa-a975-5c92c4b02b6d"
      },
      "execution_count": 74,
      "outputs": [
        {
          "output_type": "stream",
          "name": "stdout",
          "text": [
            "Média do F1-Score com SMOTE e StratifiedKFold: 0.61\n"
          ]
        }
      ]
    },
    {
      "cell_type": "markdown",
      "source": [
        "### Desafio 15\n",
        "\n",
        " Utilize um [`pipeline`](https://imbalanced-learn.org/stable/references/generated/imblearn.pipeline.Pipeline.html) contendo ajuste do modelo e o balanceamento dos dados usando o undersampling com [`Nearmiss`](https://imbalanced-learn.org/stable/references/generated/imblearn.over_sampling.SMOTE.html) na sua versão 3, obtendo a média do F1-Score de uma validação cruzada com `StratifiedKFold`."
      ],
      "metadata": {
        "id": "rSKJ6r9gJuq0"
      }
    },
    {
      "cell_type": "code",
      "source": [
        "from imblearn.under_sampling import NearMiss\n",
        "\n",
        "# Criar o objeto NearMiss\n",
        "nearmiss = NearMiss(version=3)\n",
        "\n",
        "# Criar o pipeline para Decision Tree\n",
        "pipeline_dt = Pipeline([\n",
        "    ('nearmiss', nearmiss),\n",
        "    ('dtree', dtree)\n",
        "])\n",
        "\n",
        "# Criar o objeto StratifiedKFold\n",
        "skf = StratifiedKFold(n_splits=n_splits, shuffle=True, random_state=seed)\n",
        "\n",
        "# Avaliar o desempenho do modelo com cross_val_score e StratifiedKFold\n",
        "resultados_dt = cross_val_score(pipeline_dt, x, y, cv=skf, scoring='f1')\n",
        "\n",
        "# Imprimir a média do F1-Score\n",
        "print(f\"Média do F1-Score com NearMiss e StratifiedKFold Decision Tree: {resultados_dt.mean():.2f}\")\n"
      ],
      "metadata": {
        "id": "FA2DCsQbT5Go",
        "colab": {
          "base_uri": "https://localhost:8080/"
        },
        "outputId": "6455a68f-d372-4dd3-d278-5ad7d902ec14"
      },
      "execution_count": 76,
      "outputs": [
        {
          "output_type": "stream",
          "name": "stdout",
          "text": [
            "Média do F1-Score com NearMiss (versão 3) e StratifiedKFold (Decision Tree): 0.52\n"
          ]
        }
      ]
    },
    {
      "cell_type": "code",
      "source": [
        "# Criar o pipeline para Random Forest\n",
        "pipeline_rf = Pipeline([\n",
        "    ('nearmiss', nearmiss),\n",
        "    ('r_forest', r_forest)\n",
        "])\n",
        "\n",
        "# Avaliar o desempenho do modelo com cross_val_score e StratifiedKFold\n",
        "resultados_rf = cross_val_score(pipeline_rf, x, y, cv=skf, scoring='f1')\n",
        "\n",
        "# Imprimir a média do F1-Score\n",
        "print(f\"Média do F1-Score com NearMiss e StratifiedKFold Random Forest: {resultados_rf.mean():.2f}\")\n"
      ],
      "metadata": {
        "colab": {
          "base_uri": "https://localhost:8080/"
        },
        "id": "v-kNRsqqu4DM",
        "outputId": "af1e6502-d3da-4338-b980-a769f3ec6704"
      },
      "execution_count": 78,
      "outputs": [
        {
          "output_type": "stream",
          "name": "stdout",
          "text": [
            "Média do F1-Score com NearMiss e StratifiedKFold Random Forest: 0.57\n"
          ]
        }
      ]
    },
    {
      "cell_type": "markdown",
      "source": [
        "### Desafio 16\n",
        "\n",
        "Escolha o modelo que obteve o melhor desempenho ao comparar as estratégias de oversampling e undersampling e realize o teste do modelo nos dados de teste que foram separados no início dos desafios."
      ],
      "metadata": {
        "id": "6ZpXGQyPJwNl"
      }
    },
    {
      "cell_type": "code",
      "source": [
        "print(\"O modelo que obteve o melhor desempenho foi o Random Forest com SMOTE\")\n",
        "\n",
        "# Treinar o modelo com o pipeline\n",
        "pipeline_rf.fit(x_treino, y_treino)\n",
        "\n",
        "# Fazer previsões nos dados de teste\n",
        "y_pred_rf = pipeline_rf.predict(x_teste)\n",
        "\n",
        "# Avaliar o desempenho do modelo nos dados de teste\n",
        "accuracy_rf = accuracy_score(y_teste, y_pred_rf)\n",
        "recall_rf = recall_score(y_teste, y_pred_rf)\n",
        "precision_rf = precision_score(y_teste, y_pred_rf)\n",
        "f1_rf = f1_score(y_teste, y_pred_rf)\n",
        "\n",
        "print(\"Random Forest com SMOTE - Resultados nos dados de teste:\")\n",
        "print(f\"Accuracy: {accuracy_rf:.2f}\")\n",
        "print(f\"Recall: {recall_rf:.2f}\")\n",
        "print(f\"Precision: {precision_rf:.2f}\")\n",
        "print(f\"F1-Score: {f1_rf:.2f}\")\n"
      ],
      "metadata": {
        "id": "x7N_pyEuT6dh",
        "colab": {
          "base_uri": "https://localhost:8080/"
        },
        "outputId": "f0a8a599-e6ce-4fd6-8cc8-cc8d1ce7c971"
      },
      "execution_count": 79,
      "outputs": [
        {
          "output_type": "stream",
          "name": "stdout",
          "text": [
            "O modelo que obteve o melhor desempenho foi o Random Forest com SMOTE\n",
            "Random Forest com SMOTE - Resultados nos dados de teste:\n",
            "Accuracy: 0.65\n",
            "Recall: 0.64\n",
            "Precision: 0.48\n",
            "F1-Score: 0.55\n"
          ]
        }
      ]
    }
  ]
}